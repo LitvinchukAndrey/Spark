{
 "cells": [
  {
   "cell_type": "code",
   "execution_count": 1,
   "metadata": {},
   "outputs": [],
   "source": [
    "sql = SQLContext(sc)"
   ]
  },
  {
   "cell_type": "code",
   "execution_count": 6,
   "metadata": {},
   "outputs": [],
   "source": [
    "airport = sql.read.format('com.databricks.spark.csv').load('airports.text')"
   ]
  },
  {
   "cell_type": "code",
   "execution_count": 7,
   "metadata": {},
   "outputs": [
    {
     "name": "stdout",
     "output_type": "stream",
     "text": [
      "+---+--------------------+--------------+----------------+---+----+---------+----------+----+---+----+--------------------+\n",
      "|_c0|                 _c1|           _c2|             _c3|_c4| _c5|      _c6|       _c7| _c8|_c9|_c10|                _c11|\n",
      "+---+--------------------+--------------+----------------+---+----+---------+----------+----+---+----+--------------------+\n",
      "|  1|              Goroka|        Goroka|Papua New Guinea|GKA|AYGA|-6.081689|145.391881|5282| 10|   U|Pacific/Port_Moresby|\n",
      "|  2|              Madang|        Madang|Papua New Guinea|MAG|AYMD|-5.207083|  145.7887|  20| 10|   U|Pacific/Port_Moresby|\n",
      "|  3|         Mount Hagen|   Mount Hagen|Papua New Guinea|HGU|AYMH|-5.826789|144.295861|5388| 10|   U|Pacific/Port_Moresby|\n",
      "|  4|              Nadzab|        Nadzab|Papua New Guinea|LAE|AYNZ|-6.569828|146.726242| 239| 10|   U|Pacific/Port_Moresby|\n",
      "|  5|Port Moresby Jack...|  Port Moresby|Papua New Guinea|POM|AYPY|-9.443383| 147.22005| 146| 10|   U|Pacific/Port_Moresby|\n",
      "|  6|          Wewak Intl|         Wewak|Papua New Guinea|WWK|AYWK|-3.583828|143.669186|  19| 10|   U|Pacific/Port_Moresby|\n",
      "|  7|          Narsarsuaq|  Narssarssuaq|       Greenland|UAK|BGBW|61.160517|-45.425978| 112| -3|   E|     America/Godthab|\n",
      "|  8|                Nuuk|      Godthaab|       Greenland|GOH|BGGH|64.190922|-51.678064| 283| -3|   E|     America/Godthab|\n",
      "|  9|   Sondre Stromfjord|   Sondrestrom|       Greenland|SFJ|BGSF|67.016969|-50.689325| 165| -3|   E|     America/Godthab|\n",
      "| 10|      Thule Air Base|         Thule|       Greenland|THU|BGTL|76.531203|-68.703161| 251| -4|   E|       America/Thule|\n",
      "| 11|            Akureyri|      Akureyri|         Iceland|AEY|BIAR|65.659994|-18.072703|   6|  0|   N|  Atlantic/Reykjavik|\n",
      "| 12|         Egilsstadir|   Egilsstadir|         Iceland|EGS|BIEG|65.283333|-14.401389|  76|  0|   N|  Atlantic/Reykjavik|\n",
      "| 13|        Hornafjordur|          Hofn|         Iceland|HFN|BIHN|64.295556|-15.227222|  24|  0|   N|  Atlantic/Reykjavik|\n",
      "| 14|             Husavik|       Husavik|         Iceland|HZK|BIHU|65.952328|-17.425978|  48|  0|   N|  Atlantic/Reykjavik|\n",
      "| 15|          Isafjordur|    Isafjordur|         Iceland|IFJ|BIIS|66.058056|-23.135278|   8|  0|   N|  Atlantic/Reykjavik|\n",
      "| 16|Keflavik Internat...|      Keflavik|         Iceland|KEF|BIKF|   63.985|-22.605556| 171|  0|   N|  Atlantic/Reykjavik|\n",
      "| 17|      Patreksfjordur|Patreksfjordur|         Iceland|PFJ|BIPA|65.555833|   -23.965|  11|  0|   N|  Atlantic/Reykjavik|\n",
      "| 18|           Reykjavik|     Reykjavik|         Iceland|RKV|BIRK|    64.13|-21.940556|  48|  0|   N|  Atlantic/Reykjavik|\n",
      "| 19|        Siglufjordur|  Siglufjordur|         Iceland|SIJ|BISI|66.133333|-18.916667|  10|  0|   N|  Atlantic/Reykjavik|\n",
      "| 20|      Vestmannaeyjar|Vestmannaeyjar|         Iceland|VEY|BIVM|63.424303|-20.278875| 326|  0|   N|  Atlantic/Reykjavik|\n",
      "+---+--------------------+--------------+----------------+---+----+---------+----------+----+---+----+--------------------+\n",
      "only showing top 20 rows\n",
      "\n"
     ]
    }
   ],
   "source": [
    "airport.show()"
   ]
  },
  {
   "cell_type": "code",
   "execution_count": 9,
   "metadata": {},
   "outputs": [],
   "source": [
    "airport.createOrReplaceTempView('airport')"
   ]
  },
  {
   "cell_type": "code",
   "execution_count": 13,
   "metadata": {},
   "outputs": [],
   "source": [
    "long = sql.sql('select _c1, _c6 from airport where _c6 > 40')"
   ]
  },
  {
   "cell_type": "code",
   "execution_count": 14,
   "metadata": {},
   "outputs": [
    {
     "name": "stdout",
     "output_type": "stream",
     "text": [
      "+--------------------+---------+\n",
      "|                 _c1|      _c6|\n",
      "+--------------------+---------+\n",
      "|          Narsarsuaq|61.160517|\n",
      "|                Nuuk|64.190922|\n",
      "|   Sondre Stromfjord|67.016969|\n",
      "|      Thule Air Base|76.531203|\n",
      "|            Akureyri|65.659994|\n",
      "|         Egilsstadir|65.283333|\n",
      "|        Hornafjordur|64.295556|\n",
      "|             Husavik|65.952328|\n",
      "|          Isafjordur|66.058056|\n",
      "|Keflavik Internat...|   63.985|\n",
      "|      Patreksfjordur|65.555833|\n",
      "|           Reykjavik|    64.13|\n",
      "|        Siglufjordur|66.133333|\n",
      "|      Vestmannaeyjar|63.424303|\n",
      "|     Sault Ste Marie|46.485001|\n",
      "| Winnipeg St Andrews|50.056389|\n",
      "|          Shearwater|44.639721|\n",
      "|          St Anthony|51.391944|\n",
      "|              Tofino|49.082222|\n",
      "|            Kugaaruk|68.534444|\n",
      "+--------------------+---------+\n",
      "only showing top 20 rows\n",
      "\n"
     ]
    }
   ],
   "source": [
    "long.show()"
   ]
  },
  {
   "cell_type": "code",
   "execution_count": 15,
   "metadata": {},
   "outputs": [],
   "source": [
    "long.repartition(1).write.format('com.databricks.spark.csv').save(\"long.csv\",header = 'false', delimiter = ',')"
   ]
  }
 ],
 "metadata": {
  "kernelspec": {
   "display_name": "Python 3",
   "language": "python",
   "name": "python3"
  },
  "language_info": {
   "codemirror_mode": {
    "name": "ipython",
    "version": 3
   },
   "file_extension": ".py",
   "mimetype": "text/x-python",
   "name": "python",
   "nbconvert_exporter": "python",
   "pygments_lexer": "ipython3",
   "version": "3.6.4"
  }
 },
 "nbformat": 4,
 "nbformat_minor": 2
}
